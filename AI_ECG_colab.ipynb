{
  "cells": [
    {
      "cell_type": "code",
      "execution_count": 1,
      "metadata": {
        "id": "k1Sdf5z4um1F"
      },
      "outputs": [],
      "source": [
        "import torch.nn as nn\n",
        "import torch.optim as optim\n",
        "import numpy as np\n",
        "import time\n",
        "import random\n",
        "import torch\n",
        "from matplotlib import pyplot as plt"
      ]
    },
    {
      "cell_type": "code",
      "source": [
        "from google.colab import drive\n",
        "drive.mount('/content/drive')"
      ],
      "metadata": {
        "colab": {
          "base_uri": "https://localhost:8080/"
        },
        "id": "euC-RQKaYjEH",
        "outputId": "2c8aaa70-2c3a-43ba-cc2b-3e54cf2dedc7"
      },
      "execution_count": 2,
      "outputs": [
        {
          "output_type": "stream",
          "name": "stdout",
          "text": [
            "Mounted at /content/drive\n"
          ]
        }
      ]
    },
    {
      "cell_type": "code",
      "execution_count": 3,
      "metadata": {
        "id": "JeFpsa_NuVJT"
      },
      "outputs": [],
      "source": [
        "SEED = 1234\n",
        "\n",
        "random.seed(SEED)\n",
        "np.random.seed(SEED)\n",
        "torch.manual_seed(SEED)\n",
        "torch.backends.cudnn.deterministic = True"
      ]
    },
    {
      "cell_type": "code",
      "execution_count": 4,
      "metadata": {
        "id": "euhM5b9nucCy"
      },
      "outputs": [],
      "source": [
        "device = torch.device('cuda' if torch.cuda.is_available() else 'cpu')"
      ]
    },
    {
      "cell_type": "code",
      "execution_count": 5,
      "metadata": {
        "colab": {
          "base_uri": "https://localhost:8080/"
        },
        "id": "TtxKGa-ZygG2",
        "outputId": "003ddeb5-0f96-4419-9690-494faf31e726"
      },
      "outputs": [
        {
          "output_type": "execute_result",
          "data": {
            "text/plain": [
              "device(type='cpu')"
            ]
          },
          "metadata": {},
          "execution_count": 5
        }
      ],
      "source": [
        "device"
      ]
    },
    {
      "cell_type": "code",
      "execution_count": 6,
      "metadata": {
        "id": "Uqf-PWli0naD"
      },
      "outputs": [],
      "source": [
        "import numpy as np\n",
        "import torch\n",
        "import torch.utils.data\n",
        "\n",
        "\n",
        "class ECGs_Dataset(torch.utils.data.Dataset):\n",
        "    def __init__(self, ecgs: str, diags: str):\n",
        "        \"\"\"Initializes Dataset with passed files.\n",
        "        Args:\n",
        "            ecgs: file of ecgs,\n",
        "            diags: file of diagnoses.\n",
        "        \"\"\"\n",
        "        self.ecgs = np.load(ecgs)\n",
        "        self.diags = np.load(diags)\n",
        "\n",
        "        # self.transforms = Compose(\n",
        "        #     [\n",
        "        #         ToTensor()\n",
        "        #     ]\n",
        "        # )\n",
        "\n",
        "    def __getitem__(self, idx: int):\n",
        "        \"\"\"Returns the object by given index.\n",
        "        Args:\n",
        "            idx - index of the record.\n",
        "        Returns:\n",
        "            record and diagnosis.\n",
        "        \"\"\"\n",
        "\n",
        "        record = self.ecgs[idx]\n",
        "        diag = torch.tensor(float(1 - self.diags[idx]))\n",
        "\n",
        "        return record, diag                 # 1 - аритмия, 0 - норма\n",
        "\n",
        "    def __len__(self):\n",
        "        \"\"\"Returns length of files containing in dataset.\"\"\"\n",
        "\n",
        "        return len(self.ecgs)\n"
      ]
    },
    {
      "cell_type": "code",
      "execution_count": 7,
      "metadata": {
        "id": "AVz7SgIDyner"
      },
      "outputs": [],
      "source": [
        "# train_dataset = ECGs_Dataset(\n",
        "#     ecgs=\"/content/drive/MyDrive/AI_ECG/all_train_ECGs\",\n",
        "#     diags=\"/content/drive/MyDrive/AI_ECG/all_train_Diags\",\n",
        "# )\n",
        "test_dataset = ECGs_Dataset(\n",
        "    ecgs=\"/content/drive/MyDrive/AI_ECG/all_test_ECGs\",\n",
        "    diags=\"/content/drive/MyDrive/AI_ECG/all_test_Diags\",\n",
        ")"
      ]
    },
    {
      "cell_type": "code",
      "execution_count": 8,
      "metadata": {
        "id": "grG_I2Yt0UCx"
      },
      "outputs": [],
      "source": [
        "# train_loader = torch.utils.data.DataLoader(\n",
        "#     train_dataset, batch_size=128, shuffle=True, pin_memory=True, num_workers=0\n",
        "# )\n",
        "test_loader = torch.utils.data.DataLoader(\n",
        "    test_dataset, batch_size=128, shuffle=True, pin_memory=True, num_workers=0\n",
        ")"
      ]
    },
    {
      "cell_type": "code",
      "execution_count": 9,
      "metadata": {
        "id": "qdtuAgi80k3i"
      },
      "outputs": [],
      "source": [
        "import math\n",
        "\n",
        "import torch.nn as nn\n",
        "# import numpy as np\n",
        "\n",
        "\n",
        "class LSTM_ECGs_arithm(nn.Module):\n",
        "    def __init__(\n",
        "            self,\n",
        "            input_dim,\n",
        "            output_dim,\n",
        "            hidden_dim=128,  # 128\n",
        "            n_layers=1,  # 2\n",
        "            dropout=0.0,  # 0.25\n",
        "    ):\n",
        "        super().__init__()\n",
        "\n",
        "        self.lstm = nn.LSTM(\n",
        "            input_dim,\n",
        "            hidden_dim,\n",
        "            num_layers=n_layers,\n",
        "            bidirectional=False,\n",
        "            dropout=dropout,\n",
        "        )\n",
        "\n",
        "        self.fc = nn.Linear(hidden_dim, output_dim)\n",
        "        self.dropout = nn.Dropout(dropout)\n",
        "\n",
        "        for name, param in self.named_parameters():\n",
        "            # nn.init.normal_(param.data, mean=0, std=0.1)\n",
        "            if name.find(\"bias\") != -1:   # это должно подойти, т.к. у нас функция активации как раз тангенс\n",
        "                param.data.fill_(0)\n",
        "            else:\n",
        "                bound = math.sqrt(6)/math.sqrt(param.shape[0]+param.shape[1])\n",
        "                param.data.uniform_(-bound, bound)\n",
        "\n",
        "    def forward(self, records):\n",
        "        \"\"\"Inputs:\n",
        "\n",
        "            records, shape is [batch size, num of ecg canals, record len (5000)],\n",
        "\n",
        "        Intermediate values:\n",
        "\n",
        "            reshaped, shape is [record len (5000), batch size, num of ecg canals],\n",
        "\n",
        "            output, shape is [record len (5000), batch size, hid dim],\n",
        "\n",
        "            hidden/cell, shape is [n layers, batch size, hid dim]\n",
        "\n",
        "        Outputs hold forward hidden state in the final layer,\n",
        "        Hidden and cell are the forward hidden and cell states at the final time-step\n",
        "\n",
        "        Returns:\n",
        "\n",
        "            prediction, shape is [batch size, output dim]\n",
        "        \"\"\"\n",
        "\n",
        "        reshaped = (records.swapaxes(0, 1)).swapaxes(0, 2)\n",
        "        outputs, (hidden, cell) = self.lstm(reshaped)\n",
        "\n",
        "        predictions = self.fc(outputs[-1])\n",
        "\n",
        "        return predictions\n"
      ]
    },
    {
      "cell_type": "code",
      "execution_count": null,
      "metadata": {
        "id": "8fOV3UhA0hy8",
        "colab": {
          "base_uri": "https://localhost:8080/",
          "height": 207
        },
        "outputId": "8d0b862e-ec2e-43bf-b43e-a9faa9a66a44"
      },
      "outputs": [
        {
          "output_type": "error",
          "ename": "NameError",
          "evalue": "name 'train_dataset' is not defined",
          "traceback": [
            "\u001b[0;31m---------------------------------------------------------------------------\u001b[0m",
            "\u001b[0;31mNameError\u001b[0m                                 Traceback (most recent call last)",
            "\u001b[0;32m<ipython-input-1-8b39c7215b0b>\u001b[0m in \u001b[0;36m<cell line: 1>\u001b[0;34m()\u001b[0m\n\u001b[0;32m----> 1\u001b[0;31m \u001b[0minput_dim\u001b[0m \u001b[0;34m=\u001b[0m \u001b[0mtrain_dataset\u001b[0m\u001b[0;34m.\u001b[0m\u001b[0mecgs\u001b[0m\u001b[0;34m.\u001b[0m\u001b[0mshape\u001b[0m\u001b[0;34m[\u001b[0m\u001b[0;36m1\u001b[0m\u001b[0;34m]\u001b[0m\u001b[0;34m\u001b[0m\u001b[0;34m\u001b[0m\u001b[0m\n\u001b[0m\u001b[1;32m      2\u001b[0m \u001b[0;34m\u001b[0m\u001b[0m\n\u001b[1;32m      3\u001b[0m \u001b[0moutput_dim\u001b[0m \u001b[0;34m=\u001b[0m \u001b[0;36m1\u001b[0m  \u001b[0;31m# arithmia or norm\u001b[0m\u001b[0;34m\u001b[0m\u001b[0;34m\u001b[0m\u001b[0m\n\u001b[1;32m      4\u001b[0m \u001b[0;34m\u001b[0m\u001b[0m\n\u001b[1;32m      5\u001b[0m \u001b[0mmodel\u001b[0m \u001b[0;34m=\u001b[0m \u001b[0mLSTM_ECGs_arithm\u001b[0m\u001b[0;34m(\u001b[0m\u001b[0minput_dim\u001b[0m\u001b[0;34m,\u001b[0m \u001b[0moutput_dim\u001b[0m\u001b[0;34m)\u001b[0m\u001b[0;34m\u001b[0m\u001b[0;34m\u001b[0m\u001b[0m\n",
            "\u001b[0;31mNameError\u001b[0m: name 'train_dataset' is not defined"
          ]
        }
      ],
      "source": [
        "input_dim = train_dataset.ecgs.shape[1]\n",
        "\n",
        "output_dim = 1  # arithmia or norm\n",
        "\n",
        "model = LSTM_ECGs_arithm(input_dim, output_dim)\n",
        "model.load_state_dict(torch.load('/content/drive/MyDrive/AI_ECG/tut4-model.pt'))\n",
        "model.to(device)\n",
        "\n",
        "\n",
        "optimizer = optim.AdamW(model.parameters(), lr=1e-2)\n",
        "optimizer.load_state_dict(torch.load('/content/drive/MyDrive/AI_ECG/tut4-optimizer.pt'))\n",
        "\n",
        "criterion = nn.BCEWithLogitsLoss()"
      ]
    },
    {
      "cell_type": "code",
      "execution_count": 10,
      "metadata": {
        "id": "Apo077u20v3_"
      },
      "outputs": [],
      "source": [
        "def categorical_accuracy(preds, y):\n",
        "    \"\"\"\n",
        "    Returns accuracy per batch, i.e. if you get 8/10 right, this returns 0.8, NOT 8\n",
        "    \"\"\"\n",
        "    correct = [int((preds[i] > 0.5 and y[i].item() > 0.5) or (preds[i] < 0.5 and y[i].item() < 0.5)) for i in range(len(y))]\n",
        "    return sum(correct) / len(correct)\n",
        "\n",
        "\n",
        "def Errors(preds, y):\n",
        "    tp, tn, fp, fn = 0, 0, 0, 0\n",
        "    arithm, norm = 0, 0\n",
        "    for i in range(len(y)):\n",
        "        if y[i].item() >= 0.5 and preds[i] > 0.5:\n",
        "            tp += 1\n",
        "            arithm += 1\n",
        "        elif y[i].item() <= 0.5 and preds[i] < 0.5:\n",
        "            tn += 1\n",
        "            norm += 1\n",
        "        elif y[i].item() <= 0.5 and preds[i] > 0.5:\n",
        "            fp += 1\n",
        "            norm += 1\n",
        "        else:\n",
        "            fn += 1\n",
        "            arithm += 1\n",
        "\n",
        "    return tp / arithm if arithm != 0 else 0, tn / norm if norm != 0 else 0#, fp, fn"
      ]
    },
    {
      "cell_type": "code",
      "execution_count": null,
      "metadata": {
        "id": "VJ4jTFzf01QB"
      },
      "outputs": [],
      "source": [
        "def train(model, loader, optimizer, criterion):\n",
        "    epoch_loss = 0\n",
        "    epoch_acc = 0\n",
        "    epoch_TP, epoch_TN = 0, 0\n",
        "\n",
        "    model.train()\n",
        "\n",
        "    num = 0\n",
        "    for records, diags in loader:\n",
        "\n",
        "        records = records.to(device)\n",
        "        diags = diags.to(device)\n",
        "\n",
        "        optimizer.zero_grad()\n",
        "\n",
        "        # records = [batch size, num of ecg canals, record len (5000)]\n",
        "\n",
        "        predictions = model(records.float())\n",
        "\n",
        "        # predictions = [batch size, output dim]\n",
        "        # diags = [batch size, output_dim]\n",
        "\n",
        "        # predictions = predictions.view(-1, predictions.shape[-1])\n",
        "        # tags = tags.view(-1)\n",
        "        #\n",
        "        # # predictions = [sent len * batch size, output dim]\n",
        "        # # diags = [sent len * batch size]\n",
        "        # predictions = predictions.reshape(-1)\n",
        "\n",
        "        #predictions = torch.squeeze(predictions)\n",
        "\n",
        "        loss = criterion(torch.squeeze(predictions), diags)\n",
        "\n",
        "        acc = categorical_accuracy(predictions, diags)\n",
        "        TP, TN = Errors(predictions, diags)\n",
        "\n",
        "        loss.backward()\n",
        "\n",
        "        optimizer.step()\n",
        "\n",
        "        epoch_loss += loss.item()\n",
        "        epoch_acc += acc\n",
        "        epoch_TP += TP\n",
        "        epoch_TN += TN\n",
        "\n",
        "        num += 1\n",
        "        print(f\"{num}/{len(loader)}    epoch_loss = {epoch_loss}\")\n",
        "\n",
        "    return epoch_loss / len(loader), epoch_acc / len(loader), (epoch_TP / len(loader), epoch_TN / len(loader))"
      ]
    },
    {
      "cell_type": "code",
      "execution_count": 11,
      "metadata": {
        "id": "LY66cfg71UyK"
      },
      "outputs": [],
      "source": [
        "def evaluate(model, loader, criterion):\n",
        "    epoch_loss = 0\n",
        "    epoch_acc = 0\n",
        "    epoch_TP, epoch_TN = 0, 0\n",
        "\n",
        "    model.eval()\n",
        "\n",
        "    with torch.no_grad():\n",
        "        for records, diags in loader:\n",
        "\n",
        "            records = records.to(device)\n",
        "            diags = diags.to(device)\n",
        "\n",
        "            predictions = model(records.float())\n",
        "\n",
        "            # predictions = predictions.reshape(-1)\n",
        "            print(predictions.shape)\n",
        "\n",
        "            loss = criterion(torch.squeeze(predictions), diags)\n",
        "\n",
        "            acc = categorical_accuracy(predictions, diags)\n",
        "            TP, TN = Errors(predictions, diags)\n",
        "\n",
        "            epoch_loss += loss.item()\n",
        "            epoch_acc += acc\n",
        "            epoch_TP += TP\n",
        "            epoch_TN += TN\n",
        "\n",
        "    return epoch_loss / len(loader), epoch_acc / len(loader), (epoch_TP / len(loader), epoch_TN / len(loader))"
      ]
    },
    {
      "cell_type": "code",
      "execution_count": 12,
      "metadata": {
        "id": "mDA04Jnx1fNm"
      },
      "outputs": [],
      "source": [
        "def epoch_time(start_time, end_time):\n",
        "    elapsed_time = end_time - start_time\n",
        "    elapsed_mins = int(elapsed_time / 60)\n",
        "    elapsed_secs = int(elapsed_time - (elapsed_mins * 60))\n",
        "    return elapsed_mins, elapsed_secs"
      ]
    },
    {
      "cell_type": "code",
      "execution_count": null,
      "metadata": {
        "id": "jALfmCGH1e-l"
      },
      "outputs": [],
      "source": [
        "N_EPOCHS = 100\n",
        "\n",
        "best_valid_loss = float(\"inf\")\n",
        "\n",
        "model = model.float()\n",
        "\n",
        "Train_Loss, Train_Acc, Train_TP, Train_TN = [], [], [], []\n",
        "Test_Loss, Test_Acc, Test_TP, Test_TN = [], [], [], []\n",
        "\n",
        "for epoch in range(N_EPOCHS):\n",
        "\n",
        "    start_time = time.time()\n",
        "\n",
        "    train_loss, train_acc, train_Errors = train(model, train_loader, optimizer, criterion)\n",
        "    test_loss, test_acc, test_Errors = evaluate(model, test_loader, criterion)\n",
        "\n",
        "    end_time = time.time()\n",
        "\n",
        "    epoch_mins, epoch_secs = epoch_time(start_time, end_time)\n",
        "\n",
        "    if test_loss < best_valid_loss:\n",
        "        best_valid_loss = test_loss\n",
        "        torch.save(model.state_dict(), \"/content/drive/MyDrive/AI_ECG/tut4-model.pt\")\n",
        "        torch.save(optimizer.state_dict(), \"/content/drive/MyDrive/AI_ECG/tut4-optimizer.pt\")\n",
        "\n",
        "\n",
        "    print()\n",
        "    print(f\"Epoch: {epoch + 1:02} | Epoch Time: {epoch_mins}m {epoch_secs}s\")\n",
        "    print(\n",
        "        f\"\\tTrain Loss: {train_loss:.5f} | Train Acc: {train_acc * 100:.2f}%\\n\"\n",
        "        f\"Train true arithmia: {train_Errors[0]:.9f}\\n\"\n",
        "        f\"Train true norm: {train_Errors[1]:.9f}\\n\"\n",
        "    )\n",
        "    print(\n",
        "        f\"\\t Test. Loss: {test_loss:.5f} |  Test. Acc: {test_loss * 100:.2f}%\\n\"\n",
        "        f\"Test true arithmia: {test_Errors[0]:.9f}\\n\"\n",
        "        f\"Test true norm: {test_Errors[1]:.9f}\\n\"\n",
        "    )\n",
        "\n",
        "    Train_Loss.append(train_loss)\n",
        "    Train_Acc.append(train_acc)\n",
        "    Train_TP.append(train_Errors[0])\n",
        "    Train_TN.append(train_Errors[1])\n",
        "\n",
        "    Test_Loss.append(test_loss)\n",
        "    Test_Acc.append(test_acc)\n",
        "    Test_TP.append(test_Errors[0])\n",
        "    Test_TN.append(test_Errors[1])\n",
        "\n",
        "\n",
        "    fig, ax = plt.subplots(2,3, figsize=(10,8))\n",
        "    ax[0, 0].plot(Train_Loss)\n",
        "    ax[0, 0].set_title('Train Loss')\n",
        "    ax[1, 0].plot(Test_Loss)\n",
        "    ax[1, 0].set_title('Test Loss')\n",
        "\n",
        "    ax[0, 1].plot(Train_TP)\n",
        "    ax[0, 1].set_title('Train TP')\n",
        "    ax[1, 1].plot(Test_TP)\n",
        "    ax[1, 1].set_title('Test TP')\n",
        "\n",
        "    ax[0, 2].plot(Train_TN)\n",
        "    ax[0, 2].set_title('Train TN')\n",
        "    ax[1, 2].plot(Test_TN)\n",
        "    ax[1, 2].set_title('Test TN')\n",
        "    plt.show()\n"
      ]
    },
    {
      "cell_type": "code",
      "source": [
        "input_dim = test_dataset.ecgs.shape[1]\n",
        "\n",
        "output_dim = 1  # arithmia or norm\n",
        "\n",
        "model = LSTM_ECGs_arithm(input_dim, output_dim)\n",
        "model.load_state_dict(torch.load('/content/drive/MyDrive/AI_ECG/FF-model.pt', map_location=torch.device('cpu')))\n",
        "model.to(device)\n",
        "\n",
        "\n",
        "# optimizer = optim.AdamW(model.parameters(), lr=1e-2)\n",
        "# optimizer.load_state_dict(torch.load('/content/drive/MyDrive/AI_ECG/tut4-optimizer.pt'))\n",
        "\n",
        "criterion = nn.BCEWithLogitsLoss()\n",
        "\n",
        "\n",
        "test_loss, test_acc, test_Errors = evaluate(model, test_loader, criterion)"
      ],
      "metadata": {
        "id": "TtJyo43zBumX",
        "colab": {
          "base_uri": "https://localhost:8080/",
          "height": 505
        },
        "outputId": "a108d453-ca96-41b4-c44f-f631ef580db0"
      },
      "execution_count": 13,
      "outputs": [
        {
          "output_type": "stream",
          "name": "stdout",
          "text": [
            "torch.Size([128, 1])\n",
            "torch.Size([128, 1])\n",
            "torch.Size([128, 1])\n",
            "torch.Size([128, 1])\n",
            "torch.Size([128, 1])\n",
            "torch.Size([128, 1])\n",
            "torch.Size([128, 1])\n",
            "torch.Size([128, 1])\n",
            "torch.Size([128, 1])\n",
            "torch.Size([128, 1])\n",
            "torch.Size([128, 1])\n",
            "torch.Size([128, 1])\n"
          ]
        },
        {
          "output_type": "error",
          "ename": "KeyboardInterrupt",
          "evalue": "",
          "traceback": [
            "\u001b[0;31m---------------------------------------------------------------------------\u001b[0m",
            "\u001b[0;31mKeyboardInterrupt\u001b[0m                         Traceback (most recent call last)",
            "\u001b[0;32m<ipython-input-13-0fd385f57cc2>\u001b[0m in \u001b[0;36m<cell line: 16>\u001b[0;34m()\u001b[0m\n\u001b[1;32m     14\u001b[0m \u001b[0;34m\u001b[0m\u001b[0m\n\u001b[1;32m     15\u001b[0m \u001b[0;34m\u001b[0m\u001b[0m\n\u001b[0;32m---> 16\u001b[0;31m \u001b[0mtest_loss\u001b[0m\u001b[0;34m,\u001b[0m \u001b[0mtest_acc\u001b[0m\u001b[0;34m,\u001b[0m \u001b[0mtest_Errors\u001b[0m \u001b[0;34m=\u001b[0m \u001b[0mevaluate\u001b[0m\u001b[0;34m(\u001b[0m\u001b[0mmodel\u001b[0m\u001b[0;34m,\u001b[0m \u001b[0mtest_loader\u001b[0m\u001b[0;34m,\u001b[0m \u001b[0mcriterion\u001b[0m\u001b[0;34m)\u001b[0m\u001b[0;34m\u001b[0m\u001b[0;34m\u001b[0m\u001b[0m\n\u001b[0m",
            "\u001b[0;32m<ipython-input-11-cc00e158ea59>\u001b[0m in \u001b[0;36mevaluate\u001b[0;34m(model, loader, criterion)\u001b[0m\n\u001b[1;32m     12\u001b[0m             \u001b[0mdiags\u001b[0m \u001b[0;34m=\u001b[0m \u001b[0mdiags\u001b[0m\u001b[0;34m.\u001b[0m\u001b[0mto\u001b[0m\u001b[0;34m(\u001b[0m\u001b[0mdevice\u001b[0m\u001b[0;34m)\u001b[0m\u001b[0;34m\u001b[0m\u001b[0;34m\u001b[0m\u001b[0m\n\u001b[1;32m     13\u001b[0m \u001b[0;34m\u001b[0m\u001b[0m\n\u001b[0;32m---> 14\u001b[0;31m             \u001b[0mpredictions\u001b[0m \u001b[0;34m=\u001b[0m \u001b[0mmodel\u001b[0m\u001b[0;34m(\u001b[0m\u001b[0mrecords\u001b[0m\u001b[0;34m.\u001b[0m\u001b[0mfloat\u001b[0m\u001b[0;34m(\u001b[0m\u001b[0;34m)\u001b[0m\u001b[0;34m)\u001b[0m\u001b[0;34m\u001b[0m\u001b[0;34m\u001b[0m\u001b[0m\n\u001b[0m\u001b[1;32m     15\u001b[0m \u001b[0;34m\u001b[0m\u001b[0m\n\u001b[1;32m     16\u001b[0m             \u001b[0;31m# predictions = predictions.reshape(-1)\u001b[0m\u001b[0;34m\u001b[0m\u001b[0;34m\u001b[0m\u001b[0m\n",
            "\u001b[0;32m/usr/local/lib/python3.10/dist-packages/torch/nn/modules/module.py\u001b[0m in \u001b[0;36m_wrapped_call_impl\u001b[0;34m(self, *args, **kwargs)\u001b[0m\n\u001b[1;32m   1509\u001b[0m             \u001b[0;32mreturn\u001b[0m \u001b[0mself\u001b[0m\u001b[0;34m.\u001b[0m\u001b[0m_compiled_call_impl\u001b[0m\u001b[0;34m(\u001b[0m\u001b[0;34m*\u001b[0m\u001b[0margs\u001b[0m\u001b[0;34m,\u001b[0m \u001b[0;34m**\u001b[0m\u001b[0mkwargs\u001b[0m\u001b[0;34m)\u001b[0m  \u001b[0;31m# type: ignore[misc]\u001b[0m\u001b[0;34m\u001b[0m\u001b[0;34m\u001b[0m\u001b[0m\n\u001b[1;32m   1510\u001b[0m         \u001b[0;32melse\u001b[0m\u001b[0;34m:\u001b[0m\u001b[0;34m\u001b[0m\u001b[0;34m\u001b[0m\u001b[0m\n\u001b[0;32m-> 1511\u001b[0;31m             \u001b[0;32mreturn\u001b[0m \u001b[0mself\u001b[0m\u001b[0;34m.\u001b[0m\u001b[0m_call_impl\u001b[0m\u001b[0;34m(\u001b[0m\u001b[0;34m*\u001b[0m\u001b[0margs\u001b[0m\u001b[0;34m,\u001b[0m \u001b[0;34m**\u001b[0m\u001b[0mkwargs\u001b[0m\u001b[0;34m)\u001b[0m\u001b[0;34m\u001b[0m\u001b[0;34m\u001b[0m\u001b[0m\n\u001b[0m\u001b[1;32m   1512\u001b[0m \u001b[0;34m\u001b[0m\u001b[0m\n\u001b[1;32m   1513\u001b[0m     \u001b[0;32mdef\u001b[0m \u001b[0m_call_impl\u001b[0m\u001b[0;34m(\u001b[0m\u001b[0mself\u001b[0m\u001b[0;34m,\u001b[0m \u001b[0;34m*\u001b[0m\u001b[0margs\u001b[0m\u001b[0;34m,\u001b[0m \u001b[0;34m**\u001b[0m\u001b[0mkwargs\u001b[0m\u001b[0;34m)\u001b[0m\u001b[0;34m:\u001b[0m\u001b[0;34m\u001b[0m\u001b[0;34m\u001b[0m\u001b[0m\n",
            "\u001b[0;32m/usr/local/lib/python3.10/dist-packages/torch/nn/modules/module.py\u001b[0m in \u001b[0;36m_call_impl\u001b[0;34m(self, *args, **kwargs)\u001b[0m\n\u001b[1;32m   1518\u001b[0m                 \u001b[0;32mor\u001b[0m \u001b[0m_global_backward_pre_hooks\u001b[0m \u001b[0;32mor\u001b[0m \u001b[0m_global_backward_hooks\u001b[0m\u001b[0;34m\u001b[0m\u001b[0;34m\u001b[0m\u001b[0m\n\u001b[1;32m   1519\u001b[0m                 or _global_forward_hooks or _global_forward_pre_hooks):\n\u001b[0;32m-> 1520\u001b[0;31m             \u001b[0;32mreturn\u001b[0m \u001b[0mforward_call\u001b[0m\u001b[0;34m(\u001b[0m\u001b[0;34m*\u001b[0m\u001b[0margs\u001b[0m\u001b[0;34m,\u001b[0m \u001b[0;34m**\u001b[0m\u001b[0mkwargs\u001b[0m\u001b[0;34m)\u001b[0m\u001b[0;34m\u001b[0m\u001b[0;34m\u001b[0m\u001b[0m\n\u001b[0m\u001b[1;32m   1521\u001b[0m \u001b[0;34m\u001b[0m\u001b[0m\n\u001b[1;32m   1522\u001b[0m         \u001b[0;32mtry\u001b[0m\u001b[0;34m:\u001b[0m\u001b[0;34m\u001b[0m\u001b[0;34m\u001b[0m\u001b[0m\n",
            "\u001b[0;32m<ipython-input-9-c6139d96954f>\u001b[0m in \u001b[0;36mforward\u001b[0;34m(self, records)\u001b[0m\n\u001b[1;32m     57\u001b[0m \u001b[0;34m\u001b[0m\u001b[0m\n\u001b[1;32m     58\u001b[0m         \u001b[0mreshaped\u001b[0m \u001b[0;34m=\u001b[0m \u001b[0;34m(\u001b[0m\u001b[0mrecords\u001b[0m\u001b[0;34m.\u001b[0m\u001b[0mswapaxes\u001b[0m\u001b[0;34m(\u001b[0m\u001b[0;36m0\u001b[0m\u001b[0;34m,\u001b[0m \u001b[0;36m1\u001b[0m\u001b[0;34m)\u001b[0m\u001b[0;34m)\u001b[0m\u001b[0;34m.\u001b[0m\u001b[0mswapaxes\u001b[0m\u001b[0;34m(\u001b[0m\u001b[0;36m0\u001b[0m\u001b[0;34m,\u001b[0m \u001b[0;36m2\u001b[0m\u001b[0;34m)\u001b[0m\u001b[0;34m\u001b[0m\u001b[0;34m\u001b[0m\u001b[0m\n\u001b[0;32m---> 59\u001b[0;31m         \u001b[0moutputs\u001b[0m\u001b[0;34m,\u001b[0m \u001b[0;34m(\u001b[0m\u001b[0mhidden\u001b[0m\u001b[0;34m,\u001b[0m \u001b[0mcell\u001b[0m\u001b[0;34m)\u001b[0m \u001b[0;34m=\u001b[0m \u001b[0mself\u001b[0m\u001b[0;34m.\u001b[0m\u001b[0mlstm\u001b[0m\u001b[0;34m(\u001b[0m\u001b[0mreshaped\u001b[0m\u001b[0;34m)\u001b[0m\u001b[0;34m\u001b[0m\u001b[0;34m\u001b[0m\u001b[0m\n\u001b[0m\u001b[1;32m     60\u001b[0m \u001b[0;34m\u001b[0m\u001b[0m\n\u001b[1;32m     61\u001b[0m         \u001b[0mpredictions\u001b[0m \u001b[0;34m=\u001b[0m \u001b[0mself\u001b[0m\u001b[0;34m.\u001b[0m\u001b[0mfc\u001b[0m\u001b[0;34m(\u001b[0m\u001b[0moutputs\u001b[0m\u001b[0;34m[\u001b[0m\u001b[0;34m-\u001b[0m\u001b[0;36m1\u001b[0m\u001b[0;34m]\u001b[0m\u001b[0;34m)\u001b[0m\u001b[0;34m\u001b[0m\u001b[0;34m\u001b[0m\u001b[0m\n",
            "\u001b[0;32m/usr/local/lib/python3.10/dist-packages/torch/nn/modules/module.py\u001b[0m in \u001b[0;36m_wrapped_call_impl\u001b[0;34m(self, *args, **kwargs)\u001b[0m\n\u001b[1;32m   1509\u001b[0m             \u001b[0;32mreturn\u001b[0m \u001b[0mself\u001b[0m\u001b[0;34m.\u001b[0m\u001b[0m_compiled_call_impl\u001b[0m\u001b[0;34m(\u001b[0m\u001b[0;34m*\u001b[0m\u001b[0margs\u001b[0m\u001b[0;34m,\u001b[0m \u001b[0;34m**\u001b[0m\u001b[0mkwargs\u001b[0m\u001b[0;34m)\u001b[0m  \u001b[0;31m# type: ignore[misc]\u001b[0m\u001b[0;34m\u001b[0m\u001b[0;34m\u001b[0m\u001b[0m\n\u001b[1;32m   1510\u001b[0m         \u001b[0;32melse\u001b[0m\u001b[0;34m:\u001b[0m\u001b[0;34m\u001b[0m\u001b[0;34m\u001b[0m\u001b[0m\n\u001b[0;32m-> 1511\u001b[0;31m             \u001b[0;32mreturn\u001b[0m \u001b[0mself\u001b[0m\u001b[0;34m.\u001b[0m\u001b[0m_call_impl\u001b[0m\u001b[0;34m(\u001b[0m\u001b[0;34m*\u001b[0m\u001b[0margs\u001b[0m\u001b[0;34m,\u001b[0m \u001b[0;34m**\u001b[0m\u001b[0mkwargs\u001b[0m\u001b[0;34m)\u001b[0m\u001b[0;34m\u001b[0m\u001b[0;34m\u001b[0m\u001b[0m\n\u001b[0m\u001b[1;32m   1512\u001b[0m \u001b[0;34m\u001b[0m\u001b[0m\n\u001b[1;32m   1513\u001b[0m     \u001b[0;32mdef\u001b[0m \u001b[0m_call_impl\u001b[0m\u001b[0;34m(\u001b[0m\u001b[0mself\u001b[0m\u001b[0;34m,\u001b[0m \u001b[0;34m*\u001b[0m\u001b[0margs\u001b[0m\u001b[0;34m,\u001b[0m \u001b[0;34m**\u001b[0m\u001b[0mkwargs\u001b[0m\u001b[0;34m)\u001b[0m\u001b[0;34m:\u001b[0m\u001b[0;34m\u001b[0m\u001b[0;34m\u001b[0m\u001b[0m\n",
            "\u001b[0;32m/usr/local/lib/python3.10/dist-packages/torch/nn/modules/module.py\u001b[0m in \u001b[0;36m_call_impl\u001b[0;34m(self, *args, **kwargs)\u001b[0m\n\u001b[1;32m   1518\u001b[0m                 \u001b[0;32mor\u001b[0m \u001b[0m_global_backward_pre_hooks\u001b[0m \u001b[0;32mor\u001b[0m \u001b[0m_global_backward_hooks\u001b[0m\u001b[0;34m\u001b[0m\u001b[0;34m\u001b[0m\u001b[0m\n\u001b[1;32m   1519\u001b[0m                 or _global_forward_hooks or _global_forward_pre_hooks):\n\u001b[0;32m-> 1520\u001b[0;31m             \u001b[0;32mreturn\u001b[0m \u001b[0mforward_call\u001b[0m\u001b[0;34m(\u001b[0m\u001b[0;34m*\u001b[0m\u001b[0margs\u001b[0m\u001b[0;34m,\u001b[0m \u001b[0;34m**\u001b[0m\u001b[0mkwargs\u001b[0m\u001b[0;34m)\u001b[0m\u001b[0;34m\u001b[0m\u001b[0;34m\u001b[0m\u001b[0m\n\u001b[0m\u001b[1;32m   1521\u001b[0m \u001b[0;34m\u001b[0m\u001b[0m\n\u001b[1;32m   1522\u001b[0m         \u001b[0;32mtry\u001b[0m\u001b[0;34m:\u001b[0m\u001b[0;34m\u001b[0m\u001b[0;34m\u001b[0m\u001b[0m\n",
            "\u001b[0;32m/usr/local/lib/python3.10/dist-packages/torch/nn/modules/rnn.py\u001b[0m in \u001b[0;36mforward\u001b[0;34m(self, input, hx)\u001b[0m\n\u001b[1;32m    876\u001b[0m \u001b[0;34m\u001b[0m\u001b[0m\n\u001b[1;32m    877\u001b[0m         \u001b[0;32mif\u001b[0m \u001b[0mbatch_sizes\u001b[0m \u001b[0;32mis\u001b[0m \u001b[0;32mNone\u001b[0m\u001b[0;34m:\u001b[0m\u001b[0;34m\u001b[0m\u001b[0;34m\u001b[0m\u001b[0m\n\u001b[0;32m--> 878\u001b[0;31m             result = _VF.lstm(input, hx, self._flat_weights, self.bias, self.num_layers,\n\u001b[0m\u001b[1;32m    879\u001b[0m                               self.dropout, self.training, self.bidirectional, self.batch_first)\n\u001b[1;32m    880\u001b[0m         \u001b[0;32melse\u001b[0m\u001b[0;34m:\u001b[0m\u001b[0;34m\u001b[0m\u001b[0;34m\u001b[0m\u001b[0m\n",
            "\u001b[0;31mKeyboardInterrupt\u001b[0m: "
          ]
        }
      ]
    },
    {
      "cell_type": "code",
      "source": [
        "print(\n",
        "        f\"\\t Test. Loss: {test_loss:.5f} |  Test. Acc: {test_acc * 100:.2f}%\\n\"\n",
        "        f\"Test true arithmia: {test_Errors[0]:.9f}\\n\"\n",
        "        f\"Test true norm: {test_Errors[1]:.9f}\\n\"\n",
        "    )"
      ],
      "metadata": {
        "colab": {
          "base_uri": "https://localhost:8080/"
        },
        "id": "9TOF0ECxB9To",
        "outputId": "0bf23b10-288c-4507-c1ed-0e313176267b"
      },
      "execution_count": null,
      "outputs": [
        {
          "output_type": "stream",
          "name": "stdout",
          "text": [
            "\t Test. Loss: 0.25539 |  Test. Acc: 87.80%\n",
            "Test true arithmia: 0.894519677\n",
            "Test true norm: 0.773949710\n",
            "\n"
          ]
        }
      ]
    }
  ],
  "metadata": {
    "colab": {
      "provenance": [],
      "gpuType": "V28"
    },
    "kernelspec": {
      "display_name": "Python 3",
      "name": "python3"
    },
    "language_info": {
      "name": "python"
    },
    "accelerator": "TPU"
  },
  "nbformat": 4,
  "nbformat_minor": 0
}